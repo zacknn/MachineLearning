{
 "cells": [
  {
   "cell_type": "code",
   "execution_count": 3,
   "id": "94653ccc",
   "metadata": {},
   "outputs": [],
   "source": [
    "#import the necessary libraries\n",
    "import pandas as pd \n",
    "import numpy as np \n",
    "import matplotlib.pyplot as plt"
   ]
  },
  {
   "cell_type": "code",
   "execution_count": 5,
   "id": "0624e61b",
   "metadata": {},
   "outputs": [
    {
     "name": "stdout",
     "output_type": "stream",
     "text": [
      "   Area  Bedrooms   Price\n",
      "0  1400         3  245000\n",
      "1  1600         3  312000\n",
      "2  1700         3  279000\n",
      "3  1875         2  308000\n",
      "4  1100         2  199000\n"
     ]
    }
   ],
   "source": [
    "# import the dataset \n",
    "data = pd.read_csv('home_prices.csv')\n",
    "print(data.head())"
   ]
  },
  {
   "cell_type": "code",
   "execution_count": 9,
   "id": "c2b8b9e7",
   "metadata": {},
   "outputs": [
    {
     "name": "stdout",
     "output_type": "stream",
     "text": [
      "[[1400    3]\n",
      " [1600    3]\n",
      " [1700    3]\n",
      " [1875    2]\n",
      " [1100    2]]\n",
      "[[245000]\n",
      " [312000]\n",
      " [279000]\n",
      " [308000]\n",
      " [199000]]\n"
     ]
    }
   ],
   "source": [
    "# load the dataset\n",
    "X = data[['Area' , 'Bedrooms']].values #input features\n",
    "y = data['Price'].values.reshape(-1, 1) #target values\n",
    "print(X[:5])\n",
    "print(y[:5])"
   ]
  },
  {
   "cell_type": "code",
   "execution_count": 16,
   "id": "7dd84594",
   "metadata": {},
   "outputs": [
    {
     "name": "stdout",
     "output_type": "stream",
     "text": [
      "[1715.    3.]\n",
      "[396.42149286   0.63245553]\n",
      "[[-0.79460878  0.        ]\n",
      " [-0.29009527  0.        ]\n",
      " [-0.03783851  0.        ]\n",
      " [ 0.40361081 -1.58113883]\n",
      " [-1.55137905 -1.58113883]]\n"
     ]
    }
   ],
   "source": [
    "#normalize the input features \n",
    "X_mean = X.mean(axis=0)\n",
    "print(X_mean)\n",
    "X_std = X.std(axis=0)\n",
    "print(X_std)\n",
    "X_normalized = (X - X_mean) / X_std\n",
    "print(X_normalized[:5])"
   ]
  },
  {
   "cell_type": "code",
   "execution_count": null,
   "id": "0eb10deb",
   "metadata": {},
   "outputs": [
    {
     "name": "stdout",
     "output_type": "stream",
     "text": [
      "[[ 1.         -0.79460878  0.        ]\n",
      " [ 1.         -0.29009527  0.        ]\n",
      " [ 1.         -0.03783851  0.        ]\n",
      " [ 1.          0.40361081 -1.58113883]\n",
      " [ 1.         -1.55137905 -1.58113883]\n",
      " [ 1.         -0.41622365  1.58113883]\n",
      " [ 1.          1.6018304   1.58113883]\n",
      " [ 1.          1.85408716  0.        ]\n",
      " [ 1.         -0.73154459  0.        ]\n",
      " [ 1.         -0.03783851  0.        ]]\n"
     ]
    }
   ],
   "source": [
    "# add a bias term to the input features\n",
    "X_norm = np.hstack([np.ones((X_normalized.shape[0], 1)),X_normalized])\n",
    "print(X_norm[:5])"
   ]
  },
  {
   "cell_type": "code",
   "execution_count": 18,
   "id": "e453f9da",
   "metadata": {},
   "outputs": [],
   "source": [
    "#initailize weights\n",
    "theta = np.zeros((X_norm.shape[1], 1))\n",
    "alpha = 0.01 #learning rate\n",
    "epochs = 1000\n",
    "m = len(y)"
   ]
  },
  {
   "cell_type": "code",
   "execution_count": 19,
   "id": "4e39f4c1",
   "metadata": {},
   "outputs": [],
   "source": [
    "# Train the model using gradient descent\n",
    "losses = []\n",
    "for epoch in range(epochs):\n",
    "    predictions = X_norm @ theta\n",
    "    error = predictions - y \n",
    "    loss = (1/(2*m)) * np.sum(error**2)\n",
    "    losses.append(loss)\n",
    "    gradient = (1/m) * (X_norm.T @ error)\n",
    "    theta -= alpha * gradient"
   ]
  },
  {
   "cell_type": "code",
   "execution_count": 20,
   "id": "c306024c",
   "metadata": {},
   "outputs": [
    {
     "data": {
      "image/png": "[encoded data removed]",
      "text/plain": [
       "<Figure size 640x480 with 1 Axes>"
      ]
     },
     "metadata": {},
     "output_type": "display_data"
    }
   ],
   "source": [
    "#plot the loss over epochs\n",
    "plt.plot(losses)\n",
    "plt.title('Loss over epochs')\n",
    "plt.xlabel('Epochs')\n",
    "plt.ylabel('MSE')\n",
    "plt.grid()\n",
    "plt.show()"
   ]
  },
  {
   "cell_type": "code",
   "execution_count": 21,
   "id": "6ff9af41",
   "metadata": {},
   "outputs": [
    {
     "name": "stdout",
     "output_type": "stream",
     "text": [
      "Predicted price for 2000 sqft, 3 bedrooms: $316,995.28\n"
     ]
    }
   ],
   "source": [
    "# 7. Predict new house\n",
    "new_house = np.array([[2000, 3]])\n",
    "new_house_norm = (new_house - X_mean) / X_std\n",
    "new_house_norm = np.hstack([np.ones((1, 1)), new_house_norm])\n",
    "predicted_price = new_house_norm @ theta\n",
    "print(f\"Predicted price for 2000 sqft, 3 bedrooms: ${predicted_price[0][0]:,.2f}\")"
   ]
  }
 ],
 "metadata": {
  "kernelspec": {
   "display_name": "Python 3",
   "language": "python",
   "name": "python3"
  },
  "language_info": {
   "codemirror_mode": {
    "name": "ipython",
    "version": 3
   },
   "file_extension": ".py",
   "mimetype": "text/x-python",
   "name": "python",
   "nbconvert_exporter": "python",
   "pygments_lexer": "ipython3",
   "version": "3.12.3"
  }
 },
 "nbformat": 4,
 "nbformat_minor": 5
}
